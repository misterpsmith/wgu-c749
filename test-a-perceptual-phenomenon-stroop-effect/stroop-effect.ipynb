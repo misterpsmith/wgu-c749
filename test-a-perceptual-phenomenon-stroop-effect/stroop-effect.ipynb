{
 "cells": [
  {
   "cell_type": "markdown",
   "id": "9d785299",
   "metadata": {},
   "source": [
    "# Test A Perceptual Phenomenon: Stroop Effect"
   ]
  },
  {
   "cell_type": "markdown",
   "id": "b6d895d1",
   "metadata": {},
   "source": [
    "## Introduction:"
   ]
  },
  {
   "cell_type": "markdown",
   "id": "f8b3008b",
   "metadata": {},
   "source": [
    "The Stroop effect (named after John Ridley Stroop who first published the effect in English in 1935) is the delay in reaction time between congruent and incongruent stimuli.  Psychologists have created a psychological test, the Stroop test, that is widely used in clinical practice and investigation.\n",
    "\n",
    "A demonstration of this effect is as follows:\n",
    "\n",
    "Participants are presented with a list of words.  Each word is displayed in a color.  The participant must say out loud the color of the displayed words.  Two conditions exist:\n",
    "\n",
    "1. Words are colored according to their names (e.g. the word RED would be colored red) - this is the congruent condition.\n",
    "2. Words are *not* colored according to their names (e.g. the word RED would be colored in any color other than red) - this is called the incongruent condition.\n",
    "\n",
    "For each participant the response time to name the colors of the words in equally-sized lists is measured and recorded."
   ]
  },
  {
   "cell_type": "markdown",
   "id": "8a2fad11",
   "metadata": {},
   "source": [
    "## Questions For Investigation:"
   ]
  },
  {
   "cell_type": "markdown",
   "id": "05b03362",
   "metadata": {},
   "source": [
    "### 1. What is our independent variable? What is our dependent variable?"
   ]
  },
  {
   "cell_type": "markdown",
   "id": "a0f8bb7b",
   "metadata": {},
   "source": [
    "An independent variable is the variable you manipulate or vary in an experimental study.  It is called independent because it is not influenced by any other variable in the study.  Our independent variable is the color/word combinations.\n",
    "\n",
    "A dependent variable is the variable that changes as a result of the independent variable manipulation. It is the outcome you are interested in measuring. Our dependent variable is the time taken to name the correct color."
   ]
  },
  {
   "cell_type": "markdown",
   "id": "65fde97c",
   "metadata": {},
   "source": [
    "### 2. What is an appropriate set of hypotheses for this task? What kind of statistical test do you expect to perform? Justify your choices."
   ]
  },
  {
   "cell_type": "markdown",
   "id": "51d1d37b",
   "metadata": {},
   "source": [
    "Let:\n",
    "\n",
    "- $\\mu$<sub>1</sub> = Mean time to answer correctly for the congruent words condition.\n",
    "- $\\mu$<sub>2</sub> = Mean time to answer correctly for the incongruent words condition.\n",
    "\n",
    "Our hypotheses are:\n",
    "\n",
    "- H<sub>0</sub>: ($\\mu$<sub>1</sub> = $\\mu$<sub>2</sub>) There will be no change in population mean times between congruent and incongruent word lists.\n",
    "- H<sub>a</sub>: ($\\mu$<sub>1</sub> $\\neq$ $\\mu$<sub>2</sub>) There will be a change in population mean times between congruent and incongruent word lists.\n",
    "\n",
    "A paired t-test with a confidence interval of 99% (we reject the null hypothesis if the p-value is less than 0.01) is the statistical test of choice.  This is the appropriate test because:\n",
    "\n",
    "- We are comparing results from two similar tests using the same participants.\n",
    "- This is a small sample size (less than thirty) - a z-test would be appropriate for a larger sample size.\n",
    "- We are comparing the means of related sample data (not the equality between two populations), so an f-test is not appropriate.\n",
    "\n",
    "For the results of a paired t-test to be trusted:\n",
    "\n",
    "- The observations are independent.\n",
    "- The data must be continuous when measured on a ratio or interval scale.\n",
    "- The data should be roughly normal distributed - as long as there is not a major violation of normality, the paired sample t-test is robust to violations of this assumption."
   ]
  },
  {
   "cell_type": "markdown",
   "id": "846c8bcc",
   "metadata": {},
   "source": [
    "### 3. Report some descriptive statistics regarding this dataset. Include at least one measure of central tendency and at least one measure of variability."
   ]
  },
  {
   "cell_type": "code",
   "execution_count": 7,
   "id": "e582af53",
   "metadata": {},
   "outputs": [
    {
     "data": {
      "text/html": [
       "<div>\n",
       "<style scoped>\n",
       "    .dataframe tbody tr th:only-of-type {\n",
       "        vertical-align: middle;\n",
       "    }\n",
       "\n",
       "    .dataframe tbody tr th {\n",
       "        vertical-align: top;\n",
       "    }\n",
       "\n",
       "    .dataframe thead th {\n",
       "        text-align: right;\n",
       "    }\n",
       "</style>\n",
       "<table border=\"1\" class=\"dataframe\">\n",
       "  <thead>\n",
       "    <tr style=\"text-align: right;\">\n",
       "      <th></th>\n",
       "      <th>Congruent</th>\n",
       "      <th>Incongruent</th>\n",
       "    </tr>\n",
       "  </thead>\n",
       "  <tbody>\n",
       "    <tr>\n",
       "      <th>0</th>\n",
       "      <td>12.079</td>\n",
       "      <td>19.278</td>\n",
       "    </tr>\n",
       "    <tr>\n",
       "      <th>1</th>\n",
       "      <td>16.791</td>\n",
       "      <td>18.741</td>\n",
       "    </tr>\n",
       "    <tr>\n",
       "      <th>2</th>\n",
       "      <td>9.564</td>\n",
       "      <td>21.214</td>\n",
       "    </tr>\n",
       "    <tr>\n",
       "      <th>3</th>\n",
       "      <td>8.630</td>\n",
       "      <td>15.687</td>\n",
       "    </tr>\n",
       "    <tr>\n",
       "      <th>4</th>\n",
       "      <td>14.669</td>\n",
       "      <td>22.803</td>\n",
       "    </tr>\n",
       "    <tr>\n",
       "      <th>5</th>\n",
       "      <td>12.238</td>\n",
       "      <td>20.878</td>\n",
       "    </tr>\n",
       "    <tr>\n",
       "      <th>6</th>\n",
       "      <td>14.692</td>\n",
       "      <td>24.572</td>\n",
       "    </tr>\n",
       "    <tr>\n",
       "      <th>7</th>\n",
       "      <td>8.987</td>\n",
       "      <td>17.394</td>\n",
       "    </tr>\n",
       "    <tr>\n",
       "      <th>8</th>\n",
       "      <td>9.401</td>\n",
       "      <td>20.762</td>\n",
       "    </tr>\n",
       "    <tr>\n",
       "      <th>9</th>\n",
       "      <td>14.480</td>\n",
       "      <td>26.282</td>\n",
       "    </tr>\n",
       "    <tr>\n",
       "      <th>10</th>\n",
       "      <td>22.328</td>\n",
       "      <td>24.524</td>\n",
       "    </tr>\n",
       "    <tr>\n",
       "      <th>11</th>\n",
       "      <td>15.298</td>\n",
       "      <td>18.644</td>\n",
       "    </tr>\n",
       "    <tr>\n",
       "      <th>12</th>\n",
       "      <td>15.073</td>\n",
       "      <td>17.510</td>\n",
       "    </tr>\n",
       "    <tr>\n",
       "      <th>13</th>\n",
       "      <td>16.929</td>\n",
       "      <td>20.330</td>\n",
       "    </tr>\n",
       "    <tr>\n",
       "      <th>14</th>\n",
       "      <td>18.200</td>\n",
       "      <td>35.255</td>\n",
       "    </tr>\n",
       "    <tr>\n",
       "      <th>15</th>\n",
       "      <td>12.130</td>\n",
       "      <td>22.158</td>\n",
       "    </tr>\n",
       "    <tr>\n",
       "      <th>16</th>\n",
       "      <td>18.495</td>\n",
       "      <td>25.139</td>\n",
       "    </tr>\n",
       "    <tr>\n",
       "      <th>17</th>\n",
       "      <td>10.639</td>\n",
       "      <td>20.429</td>\n",
       "    </tr>\n",
       "    <tr>\n",
       "      <th>18</th>\n",
       "      <td>11.344</td>\n",
       "      <td>17.425</td>\n",
       "    </tr>\n",
       "    <tr>\n",
       "      <th>19</th>\n",
       "      <td>12.369</td>\n",
       "      <td>34.288</td>\n",
       "    </tr>\n",
       "    <tr>\n",
       "      <th>20</th>\n",
       "      <td>12.944</td>\n",
       "      <td>23.894</td>\n",
       "    </tr>\n",
       "    <tr>\n",
       "      <th>21</th>\n",
       "      <td>14.233</td>\n",
       "      <td>17.960</td>\n",
       "    </tr>\n",
       "    <tr>\n",
       "      <th>22</th>\n",
       "      <td>19.710</td>\n",
       "      <td>22.058</td>\n",
       "    </tr>\n",
       "    <tr>\n",
       "      <th>23</th>\n",
       "      <td>16.004</td>\n",
       "      <td>21.157</td>\n",
       "    </tr>\n",
       "  </tbody>\n",
       "</table>\n",
       "</div>"
      ],
      "text/plain": [
       "    Congruent  Incongruent\n",
       "0      12.079       19.278\n",
       "1      16.791       18.741\n",
       "2       9.564       21.214\n",
       "3       8.630       15.687\n",
       "4      14.669       22.803\n",
       "5      12.238       20.878\n",
       "6      14.692       24.572\n",
       "7       8.987       17.394\n",
       "8       9.401       20.762\n",
       "9      14.480       26.282\n",
       "10     22.328       24.524\n",
       "11     15.298       18.644\n",
       "12     15.073       17.510\n",
       "13     16.929       20.330\n",
       "14     18.200       35.255\n",
       "15     12.130       22.158\n",
       "16     18.495       25.139\n",
       "17     10.639       20.429\n",
       "18     11.344       17.425\n",
       "19     12.369       34.288\n",
       "20     12.944       23.894\n",
       "21     14.233       17.960\n",
       "22     19.710       22.058\n",
       "23     16.004       21.157"
      ]
     },
     "metadata": {},
     "output_type": "display_data"
    }
   ],
   "source": [
    "import pandas as pd\n",
    "\n",
    "# Making data frame.\n",
    "stroop_data_df = pd.read_csv('stroopdata.csv')\n",
    "\n",
    "# Show the complete Stroop dataset.\n",
    "display(stroop_data_df)"
   ]
  },
  {
   "cell_type": "markdown",
   "id": "2b222b2c",
   "metadata": {},
   "source": [
    "The complete Stroop dataset is shown above.\n",
    "\n",
    "Here are some descriptive statistics for the dataset, including at least one measurement of tendency and variability:"
   ]
  },
  {
   "cell_type": "code",
   "execution_count": 61,
   "id": "8e6fadeb",
   "metadata": {},
   "outputs": [
    {
     "name": "stdout",
     "output_type": "stream",
     "text": [
      "\n",
      "Mean:\n",
      " Congruent      14.051125\n",
      "Incongruent    22.015917\n",
      "dtype: float64 \n",
      "\n",
      "Median:\n",
      " Congruent      14.3565\n",
      "Incongruent    21.0175\n",
      "dtype: float64 \n",
      "\n"
     ]
    }
   ],
   "source": [
    "# Show at least one measurement of central tendency.\n",
    "mean = stroop_data_df.mean()\n",
    "median = stroop_data_df.median()\n",
    "print('\\nMean:\\n', mean, '\\n\\nMedian:\\n', median, '\\n')"
   ]
  },
  {
   "cell_type": "code",
   "execution_count": 59,
   "id": "336a4674",
   "metadata": {},
   "outputs": [
    {
     "name": "stdout",
     "output_type": "stream",
     "text": [
      "\n",
      "Standard Deviation:\n",
      " Congruent      3.559358\n",
      "Incongruent    4.797057\n",
      "dtype: float64 \n",
      "\n",
      "Variance:\n",
      " Congruent      12.669029\n",
      "Incongruent    23.011757\n",
      "dtype: float64\n"
     ]
    }
   ],
   "source": [
    "# Show at least one measurement of variability.\n",
    "standard_deviation = stroop_data_df.std()\n",
    "variance = stroop_data_df.var()\n",
    "print('\\nStandard Deviation:\\n', standard_deviation, '\\n\\nVariance:\\n', variance)"
   ]
  },
  {
   "cell_type": "markdown",
   "id": "c9092254",
   "metadata": {},
   "source": [
    "The data is not centered around the median so it has a good spread."
   ]
  },
  {
   "cell_type": "markdown",
   "id": "c1bb4109",
   "metadata": {},
   "source": []
  },
  {
   "cell_type": "code",
   "execution_count": null,
   "id": "a99e671b",
   "metadata": {},
   "outputs": [],
   "source": []
  },
  {
   "cell_type": "code",
   "execution_count": null,
   "id": "970245da",
   "metadata": {},
   "outputs": [],
   "source": []
  },
  {
   "cell_type": "code",
   "execution_count": null,
   "id": "d05557c0",
   "metadata": {},
   "outputs": [],
   "source": []
  },
  {
   "cell_type": "markdown",
   "id": "90049e51",
   "metadata": {},
   "source": [
    "### 4. Provide one or two visualizations that show the distribution of the sample data. Write one or two sentences noting what you observe about the plot or plots."
   ]
  },
  {
   "cell_type": "code",
   "execution_count": 71,
   "id": "e639b77e",
   "metadata": {},
   "outputs": [
    {
     "data": {
      "image/png": "[encoded data removed]",
      "text/plain": [
       "<Figure size 432x288 with 1 Axes>"
      ]
     },
     "metadata": {
      "needs_background": "light"
     },
     "output_type": "display_data"
    }
   ],
   "source": [
    "import matplotlib.pyplot as plot\n",
    "\n",
    "# Plot a box plot to show the two sets of data on the same graph.\n",
    "stroop_data_df.boxplot()\n",
    "plot.ylabel('Response Time')\n",
    "plot.show()"
   ]
  },
  {
   "cell_type": "markdown",
   "id": "73319664",
   "metadata": {},
   "source": [
    "This box plot shows that many of the response times in the incongruent tests were longer than the response times in the congruent tests. We also see some outliers in the incongruent response times."
   ]
  },
  {
   "cell_type": "code",
   "execution_count": 91,
   "id": "148450af",
   "metadata": {},
   "outputs": [
    {
     "data": {
      "image/png": "[encoded data removed]",
      "text/plain": [
       "<Figure size 432x288 with 1 Axes>"
      ]
     },
     "metadata": {
      "needs_background": "light"
     },
     "output_type": "display_data"
    }
   ],
   "source": [
    "plot.hist(stroop_data_df['Congruent'], color = 'green', alpha = 0.25)\n",
    "plot.hist(stroop_data_df['Incongruent'], color = 'blue', alpha = 0.25)\n",
    "plot.xlabel('Response Time')\n",
    "plot.ylabel('People')\n",
    "plot.show()"
   ]
  },
  {
   "cell_type": "markdown",
   "id": "9bb76335",
   "metadata": {},
   "source": [
    "This histogram shows congruent and incongruent variables and the response time to correctly answer the color.  Note there are two outliers in the 34/35 range on the histogram for the incongruent variable."
   ]
  },
  {
   "cell_type": "markdown",
   "id": "e4f57f49",
   "metadata": {},
   "source": [
    "### 5. Now, perform the statistical test and report your results. What is your confidence level and your critical statistic value? Do you reject the null hypothesis or fail to reject it? Come to a conclusion in terms of the experiment task. Did the results match up with your expectations?"
   ]
  },
  {
   "cell_type": "code",
   "execution_count": null,
   "id": "30bf1926",
   "metadata": {},
   "outputs": [],
   "source": []
  },
  {
   "cell_type": "code",
   "execution_count": 88,
   "id": "ac4e70d9",
   "metadata": {},
   "outputs": [
    {
     "name": "stdout",
     "output_type": "stream",
     "text": [
      "t-distribution = -8.02071\n",
      "p-value = 4.103e-08\n"
     ]
    }
   ],
   "source": [
    "# Perform a paired sample t-test.\n",
    "from scipy import stats\n",
    "\n",
    "t_value, p_value = stats.ttest_rel(stroop_data_df.Congruent, stroop_data_df.Incongruent)\n",
    "print(\"t-distribution = %g\" % t_value)\n",
    "print(\"p-value = %g\" % p_value)"
   ]
  },
  {
   "cell_type": "markdown",
   "id": "ef663a1d",
   "metadata": {},
   "source": [
    "Note that our alternative hypothesis is one-tailed whereas we have returned a two-tailed p-value.  Dividing the p-value by two before comparing it to our selected confidence interval is required:"
   ]
  },
  {
   "cell_type": "code",
   "execution_count": 90,
   "id": "0b24a031",
   "metadata": {},
   "outputs": [
    {
     "name": "stdout",
     "output_type": "stream",
     "text": [
      "Adjusted p-value = 2.0515e-08\n"
     ]
    }
   ],
   "source": [
    "# Adjust the p-value.\n",
    "adjusted_p_value = p_value / 2\n",
    "print(\"Adjusted p-value = %g\" % adjusted_p_value)"
   ]
  },
  {
   "cell_type": "markdown",
   "id": "b94f1ea1",
   "metadata": {},
   "source": [
    "Since the adjusted value is less than 0.01, the null hypothesis can be rejected and the alternative hypothesis can be accepted."
   ]
  },
  {
   "cell_type": "markdown",
   "id": "f8e2c634",
   "metadata": {},
   "source": [
    "### 6. Optional: What do you think is responsible for the effects observed? Can you think of an alternative or similar task that would result in a similar effect? Some research about the problem will be helpful for thinking about these two questions!"
   ]
  },
  {
   "cell_type": "code",
   "execution_count": null,
   "id": "2a590def",
   "metadata": {},
   "outputs": [],
   "source": []
  }
 ],
 "metadata": {
  "kernelspec": {
   "display_name": "Python [conda env:c749] *",
   "language": "python",
   "name": "conda-env-c749-py"
  },
  "language_info": {
   "codemirror_mode": {
    "name": "ipython",
    "version": 3
   },
   "file_extension": ".py",
   "mimetype": "text/x-python",
   "name": "python",
   "nbconvert_exporter": "python",
   "pygments_lexer": "ipython3",
   "version": "3.6.13"
  }
 },
 "nbformat": 4,
 "nbformat_minor": 5
}
