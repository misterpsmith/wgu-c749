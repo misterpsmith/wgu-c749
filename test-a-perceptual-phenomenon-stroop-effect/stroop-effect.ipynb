{
 "cells": [
  {
   "cell_type": "markdown",
   "id": "9d785299",
   "metadata": {},
   "source": [
    "# Test A Perceptual Phenomenon: Stroop Effect"
   ]
  },
  {
   "cell_type": "markdown",
   "id": "b6d895d1",
   "metadata": {},
   "source": [
    "## Introduction:"
   ]
  },
  {
   "cell_type": "markdown",
   "id": "f8b3008b",
   "metadata": {},
   "source": [
    "The Stroop effect (named after John Ridley Stroop who first published the effect in English in 1935) is the delay in reaction time between congruent and incongruent stimuli.  Psychologists have created a psychological test, the Stroop test, that is widely used in clinical practice and investigation.\n",
    "\n",
    "In a Stroop test participants are presented with a list of colored words.  The participant must say out loud the color of each displayed word.  Two conditions exist:\n",
    "\n",
    "1. Words are colored according to their names (e.g. the word RED would be colored red) - this is the congruent condition.\n",
    "2. Words are *not* colored according to their names (e.g. the word RED would be colored in any color other than red) - this is called the incongruent condition.\n",
    "\n",
    "For each participant the response time to name the colors of the words in equally-sized lists is measured and recorded."
   ]
  },
  {
   "cell_type": "markdown",
   "id": "8a2fad11",
   "metadata": {},
   "source": [
    "## Questions For Investigation:"
   ]
  },
  {
   "cell_type": "markdown",
   "id": "05b03362",
   "metadata": {},
   "source": [
    "### 1. What is our independent variable? What is our dependent variable?"
   ]
  },
  {
   "cell_type": "markdown",
   "id": "a0f8bb7b",
   "metadata": {},
   "source": [
    "An independent variable is the variable you manipulate or vary in an experimental study.  It is called independent because it is not influenced by any other variable in the study.  Our independent variable is the color/word combinations.\n",
    "\n",
    "A dependent variable is the variable that changes as a result of the independent variable manipulation. It is the outcome you are interested in measuring. Our dependent variable is the time taken to name the correct color."
   ]
  },
  {
   "cell_type": "markdown",
   "id": "65fde97c",
   "metadata": {},
   "source": [
    "### 2. What is an appropriate set of hypotheses for this task? What kind of statistical test do you expect to perform? Justify your choices."
   ]
  },
  {
   "cell_type": "markdown",
   "id": "51d1d37b",
   "metadata": {},
   "source": [
    "#### Task Hypotheses:\n",
    "\n",
    "Let:\n",
    "\n",
    "- $\\mu$<sub>1</sub> = Population mean response time to answer correctly for the congruent words condition.\n",
    "- $\\mu$<sub>2</sub> = Population mean response time to answer correctly for the incongruent words condition.\n",
    "\n",
    "Our hypotheses (null hypothesis is shown as H<sub>0</sub> and the alternative hypothesis is shown as H<sub>a</sub>) are:\n",
    "\n",
    "- H<sub>0</sub>: ($\\mu$<sub>1</sub> = $\\mu$<sub>2</sub>) There will be no change in population mean response time between congruent and incongruent word lists.\n",
    "- H<sub>a</sub>: ($\\mu$<sub>1</sub> $\\neq$ $\\mu$<sub>2</sub>) There will be a change in population mean response time between congruent and incongruent word lists.\n",
    "\n",
    "#### Expected Statistical Test:\n",
    "\n",
    "A paired t-test with a confidence interval of 99% (we reject the null hypothesis if the p-value is less than 0.01) is the statistical test of choice.  This is an appropriate test because:\n",
    "\n",
    "- We are comparing results from two similar tests using the same participants.\n",
    "- This is a small sample size (less than thirty) - a z-test would be appropriate for a larger sample size.\n",
    "- We are comparing the means of related sample data (not the equality between two populations), so an f-test is inappropriate.\n",
    "\n",
    "For the results of a paired t-test to be trusted:\n",
    "\n",
    "- The observations are independent.\n",
    "- The data must be continuous when measured on a ratio or interval scale.\n",
    "- The data should be roughly normal distributed - as long as there is not a major violation of normality, the paired sample t-test is robust to violations of this assumption."
   ]
  },
  {
   "cell_type": "markdown",
   "id": "846c8bcc",
   "metadata": {},
   "source": [
    "### 3. Report some descriptive statistics regarding this dataset. Include at least one measure of central tendency and at least one measure of variability."
   ]
  },
  {
   "cell_type": "code",
   "execution_count": 59,
   "id": "e582af53",
   "metadata": {},
   "outputs": [
    {
     "data": {
      "text/html": [
       "<div>\n",
       "<style scoped>\n",
       "    .dataframe tbody tr th:only-of-type {\n",
       "        vertical-align: middle;\n",
       "    }\n",
       "\n",
       "    .dataframe tbody tr th {\n",
       "        vertical-align: top;\n",
       "    }\n",
       "\n",
       "    .dataframe thead th {\n",
       "        text-align: right;\n",
       "    }\n",
       "</style>\n",
       "<table border=\"1\" class=\"dataframe\">\n",
       "  <thead>\n",
       "    <tr style=\"text-align: right;\">\n",
       "      <th></th>\n",
       "      <th>Congruent</th>\n",
       "      <th>Incongruent</th>\n",
       "    </tr>\n",
       "  </thead>\n",
       "  <tbody>\n",
       "    <tr>\n",
       "      <th>0</th>\n",
       "      <td>12.079</td>\n",
       "      <td>19.278</td>\n",
       "    </tr>\n",
       "    <tr>\n",
       "      <th>1</th>\n",
       "      <td>16.791</td>\n",
       "      <td>18.741</td>\n",
       "    </tr>\n",
       "    <tr>\n",
       "      <th>2</th>\n",
       "      <td>9.564</td>\n",
       "      <td>21.214</td>\n",
       "    </tr>\n",
       "    <tr>\n",
       "      <th>3</th>\n",
       "      <td>8.630</td>\n",
       "      <td>15.687</td>\n",
       "    </tr>\n",
       "    <tr>\n",
       "      <th>4</th>\n",
       "      <td>14.669</td>\n",
       "      <td>22.803</td>\n",
       "    </tr>\n",
       "    <tr>\n",
       "      <th>5</th>\n",
       "      <td>12.238</td>\n",
       "      <td>20.878</td>\n",
       "    </tr>\n",
       "    <tr>\n",
       "      <th>6</th>\n",
       "      <td>14.692</td>\n",
       "      <td>24.572</td>\n",
       "    </tr>\n",
       "    <tr>\n",
       "      <th>7</th>\n",
       "      <td>8.987</td>\n",
       "      <td>17.394</td>\n",
       "    </tr>\n",
       "    <tr>\n",
       "      <th>8</th>\n",
       "      <td>9.401</td>\n",
       "      <td>20.762</td>\n",
       "    </tr>\n",
       "    <tr>\n",
       "      <th>9</th>\n",
       "      <td>14.480</td>\n",
       "      <td>26.282</td>\n",
       "    </tr>\n",
       "    <tr>\n",
       "      <th>10</th>\n",
       "      <td>22.328</td>\n",
       "      <td>24.524</td>\n",
       "    </tr>\n",
       "    <tr>\n",
       "      <th>11</th>\n",
       "      <td>15.298</td>\n",
       "      <td>18.644</td>\n",
       "    </tr>\n",
       "    <tr>\n",
       "      <th>12</th>\n",
       "      <td>15.073</td>\n",
       "      <td>17.510</td>\n",
       "    </tr>\n",
       "    <tr>\n",
       "      <th>13</th>\n",
       "      <td>16.929</td>\n",
       "      <td>20.330</td>\n",
       "    </tr>\n",
       "    <tr>\n",
       "      <th>14</th>\n",
       "      <td>18.200</td>\n",
       "      <td>35.255</td>\n",
       "    </tr>\n",
       "    <tr>\n",
       "      <th>15</th>\n",
       "      <td>12.130</td>\n",
       "      <td>22.158</td>\n",
       "    </tr>\n",
       "    <tr>\n",
       "      <th>16</th>\n",
       "      <td>18.495</td>\n",
       "      <td>25.139</td>\n",
       "    </tr>\n",
       "    <tr>\n",
       "      <th>17</th>\n",
       "      <td>10.639</td>\n",
       "      <td>20.429</td>\n",
       "    </tr>\n",
       "    <tr>\n",
       "      <th>18</th>\n",
       "      <td>11.344</td>\n",
       "      <td>17.425</td>\n",
       "    </tr>\n",
       "    <tr>\n",
       "      <th>19</th>\n",
       "      <td>12.369</td>\n",
       "      <td>34.288</td>\n",
       "    </tr>\n",
       "    <tr>\n",
       "      <th>20</th>\n",
       "      <td>12.944</td>\n",
       "      <td>23.894</td>\n",
       "    </tr>\n",
       "    <tr>\n",
       "      <th>21</th>\n",
       "      <td>14.233</td>\n",
       "      <td>17.960</td>\n",
       "    </tr>\n",
       "    <tr>\n",
       "      <th>22</th>\n",
       "      <td>19.710</td>\n",
       "      <td>22.058</td>\n",
       "    </tr>\n",
       "    <tr>\n",
       "      <th>23</th>\n",
       "      <td>16.004</td>\n",
       "      <td>21.157</td>\n",
       "    </tr>\n",
       "  </tbody>\n",
       "</table>\n",
       "</div>"
      ],
      "text/plain": [
       "    Congruent  Incongruent\n",
       "0      12.079       19.278\n",
       "1      16.791       18.741\n",
       "2       9.564       21.214\n",
       "3       8.630       15.687\n",
       "4      14.669       22.803\n",
       "5      12.238       20.878\n",
       "6      14.692       24.572\n",
       "7       8.987       17.394\n",
       "8       9.401       20.762\n",
       "9      14.480       26.282\n",
       "10     22.328       24.524\n",
       "11     15.298       18.644\n",
       "12     15.073       17.510\n",
       "13     16.929       20.330\n",
       "14     18.200       35.255\n",
       "15     12.130       22.158\n",
       "16     18.495       25.139\n",
       "17     10.639       20.429\n",
       "18     11.344       17.425\n",
       "19     12.369       34.288\n",
       "20     12.944       23.894\n",
       "21     14.233       17.960\n",
       "22     19.710       22.058\n",
       "23     16.004       21.157"
      ]
     },
     "metadata": {},
     "output_type": "display_data"
    }
   ],
   "source": [
    "# Load data analysis library.\n",
    "import pandas as pd\n",
    "\n",
    "# Make data frame.\n",
    "stroop_data_df = pd.read_csv('stroopdata.csv')\n",
    "\n",
    "# Show the complete Stroop dataset.\n",
    "display(stroop_data_df)"
   ]
  },
  {
   "cell_type": "markdown",
   "id": "2b222b2c",
   "metadata": {},
   "source": [
    "The complete Stroop dataset is shown above.\n",
    "\n",
    "Here are some descriptive statistics for the dataset, including at least one measurement of tendency and variability."
   ]
  },
  {
   "cell_type": "code",
   "execution_count": 60,
   "id": "8e6fadeb",
   "metadata": {},
   "outputs": [
    {
     "name": "stdout",
     "output_type": "stream",
     "text": [
      "Mean:\n",
      "Congruent      14.051125\n",
      "Incongruent    22.015917\n",
      "dtype: float64\n",
      "\n",
      "Median:\n",
      "Congruent      14.3565\n",
      "Incongruent    21.0175\n",
      "dtype: float64\n"
     ]
    }
   ],
   "source": [
    "# Show at least one measurement of central tendency.\n",
    "\n",
    "# Calculate mean.\n",
    "mean = stroop_data_df.mean()\n",
    "print('Mean:')\n",
    "print(mean)\n",
    "\n",
    "# Calculate median.\n",
    "median = stroop_data_df.median()\n",
    "print('\\nMedian:')\n",
    "print(median)"
   ]
  },
  {
   "cell_type": "markdown",
   "id": "3bfeddfd",
   "metadata": {},
   "source": [
    "The congruent mean response time was 7.964792 seconds shorter than the incongruent mean response time.  The congruent median response time was 6.661 seconds shorter than the incongruent median response time.  This implies that the congruent condition has a shorter response time.\n",
    "\n",
    "The congruent mean response time is less than the congruent median response time which implies that the congruent data is slightly (since the difference between the mean and median is small) skewed to the left.  For the incongruent data the median response time is less than the mean response time which implies that the incongruent data is skewed to the right."
   ]
  },
  {
   "cell_type": "code",
   "execution_count": 61,
   "id": "336a4674",
   "metadata": {},
   "outputs": [
    {
     "name": "stdout",
     "output_type": "stream",
     "text": [
      "Standard Deviation:\n",
      "Congruent      3.559358\n",
      "Incongruent    4.797057\n",
      "dtype: float64\n",
      "\n",
      "Variance:\n",
      "Congruent      12.669029\n",
      "Incongruent    23.011757\n",
      "dtype: float64\n"
     ]
    }
   ],
   "source": [
    "# Show at least one measurement of variability.\n",
    "\n",
    "# Calculate standard deviation.\n",
    "standard_deviation = stroop_data_df.std()\n",
    "print('Standard Deviation:')\n",
    "print(standard_deviation)\n",
    "\n",
    "# Calculate variance.\n",
    "variance = stroop_data_df.var()\n",
    "print('\\nVariance:')\n",
    "print(variance)"
   ]
  },
  {
   "cell_type": "markdown",
   "id": "c9092254",
   "metadata": {},
   "source": [
    "The standard deviation can be used to show the reliability of the data - a high standard deviation implies the data is widely spread and so less reliable, whereas a low standard deviation shows that the data are clustered around the mean and thus more reliable. These results imply that the incongruent data is a little less reliable than the congruent data.  This could be the result of two outliers that are spotted in the visualizations section.\n",
    "\n",
    "The variance is the square of the standard deviation.  It can be used to check the spread of data. The variance value will be a larger number if data is spread out, and a smaller number if values are spread closely around the mean.  The results imply that the congruent data clusters more around the mean, compared with the more spread out incongruent data.  This could be the result of two outliers that are spotted in the visualizations section."
   ]
  },
  {
   "cell_type": "code",
   "execution_count": 62,
   "id": "f35df518",
   "metadata": {},
   "outputs": [
    {
     "name": "stdout",
     "output_type": "stream",
     "text": [
      "Skew:\n",
      "Congruent      0.41690\n",
      "Incongruent    1.54759\n",
      "dtype: float64\n"
     ]
    }
   ],
   "source": [
    "# Show the dataset skew\n",
    "skew = stroop_data_df.skew()\n",
    "print('Skew:')\n",
    "print(skew)"
   ]
  },
  {
   "cell_type": "markdown",
   "id": "0ec2bf26",
   "metadata": {},
   "source": [
    "Skewness can be used to determine if data is distributed normally.  The congruent data is close to a normal distribution, whereas the incongruent data is skewed to the right."
   ]
  },
  {
   "cell_type": "markdown",
   "id": "90049e51",
   "metadata": {},
   "source": [
    "### 4. Provide one or two visualizations that show the distribution of the sample data. Write one or two sentences noting what you observe about the plot or plots."
   ]
  },
  {
   "cell_type": "markdown",
   "id": "5c8573e4",
   "metadata": {},
   "source": [
    "One of the best ways to discover patterns is to show visualizations of the data.  The data must be reshaped into a form that the visualization library can understand:"
   ]
  },
  {
   "cell_type": "code",
   "execution_count": 64,
   "id": "3f40156e",
   "metadata": {},
   "outputs": [
    {
     "name": "stdout",
     "output_type": "stream",
     "text": [
      "    participant_id condition_type  response_time\n",
      "0                1      Congruent         12.079\n",
      "1                2      Congruent         16.791\n",
      "2                3      Congruent          9.564\n",
      "3                4      Congruent          8.630\n",
      "4                5      Congruent         14.669\n",
      "5                6      Congruent         12.238\n",
      "6                7      Congruent         14.692\n",
      "7                8      Congruent          8.987\n",
      "8                9      Congruent          9.401\n",
      "9               10      Congruent         14.480\n",
      "10              11      Congruent         22.328\n",
      "11              12      Congruent         15.298\n",
      "12              13      Congruent         15.073\n",
      "13              14      Congruent         16.929\n",
      "14              15      Congruent         18.200\n",
      "15              16      Congruent         12.130\n",
      "16              17      Congruent         18.495\n",
      "17              18      Congruent         10.639\n",
      "18              19      Congruent         11.344\n",
      "19              20      Congruent         12.369\n",
      "20              21      Congruent         12.944\n",
      "21              22      Congruent         14.233\n",
      "22              23      Congruent         19.710\n",
      "23              24      Congruent         16.004\n",
      "24               1    Incongruent         19.278\n",
      "25               2    Incongruent         18.741\n",
      "26               3    Incongruent         21.214\n",
      "27               4    Incongruent         15.687\n",
      "28               5    Incongruent         22.803\n",
      "29               6    Incongruent         20.878\n",
      "30               7    Incongruent         24.572\n",
      "31               8    Incongruent         17.394\n",
      "32               9    Incongruent         20.762\n",
      "33              10    Incongruent         26.282\n",
      "34              11    Incongruent         24.524\n",
      "35              12    Incongruent         18.644\n",
      "36              13    Incongruent         17.510\n",
      "37              14    Incongruent         20.330\n",
      "38              15    Incongruent         35.255\n",
      "39              16    Incongruent         22.158\n",
      "40              17    Incongruent         25.139\n",
      "41              18    Incongruent         20.429\n",
      "42              19    Incongruent         17.425\n",
      "43              20    Incongruent         34.288\n",
      "44              21    Incongruent         23.894\n",
      "45              22    Incongruent         17.960\n",
      "46              23    Incongruent         22.058\n",
      "47              24    Incongruent         21.157\n"
     ]
    }
   ],
   "source": [
    "# Reshape data prior to analysis.\n",
    "\n",
    "# Convert index into participant_id.\n",
    "stroop_data_df.reset_index(level = 0, inplace = True)\n",
    "stroop_data_df['participant_id'] = stroop_data_df['index'] + 1\n",
    "del stroop_data_df['index']\n",
    "\n",
    "# Convert data frame into long format.\n",
    "stroop_data = pd.melt(stroop_data_df, \n",
    "                     id_vars = 'participant_id',\n",
    "                     value_vars = ['Congruent', 'Incongruent'],\n",
    "                     var_name = 'condition_type',\n",
    "                     value_name = 'response_time')\n",
    "\n",
    "# Show the reshaped data.\n",
    "print(stroop_data)"
   ]
  },
  {
   "cell_type": "markdown",
   "id": "a5f52e67",
   "metadata": {},
   "source": [
    "The data has been reshaped (as seen above) and the visualizations will be created using this data."
   ]
  },
  {
   "cell_type": "code",
   "execution_count": 65,
   "id": "e639b77e",
   "metadata": {},
   "outputs": [
    {
     "data": {
      "image/png": "[encoded data removed]",
      "text/plain": [
       "<Figure size 432x288 with 1 Axes>"
      ]
     },
     "metadata": {
      "needs_background": "light"
     },
     "output_type": "display_data"
    }
   ],
   "source": [
    "# Load the seaborn visualization library (considered a superset of the matplotlib library).\n",
    "import seaborn as sb\n",
    "\n",
    "# Load the matplotlib visualization library.\n",
    "import matplotlib.pyplot as plot\n",
    "\n",
    "# Plot a box plot to show the two sets of data on the same graph.\n",
    "boxplot = sb.boxplot(x = \"condition_type\", y = \"response_time\", data = stroop_data)\n",
    "\n",
    "# Plot a swarm plot on top of the box plot.\n",
    "swarmplot = sb.swarmplot(x = \"condition_type\", y = \"response_time\", data = stroop_data, color = '0.25')\n",
    "\n",
    "# Set the x and y axes labels.\n",
    "swarmplot.set(xlabel = 'Condition', ylabel = 'Response Time')\n",
    "\n",
    "# Display the graph.\n",
    "plot.show()"
   ]
  },
  {
   "cell_type": "markdown",
   "id": "73319664",
   "metadata": {},
   "source": [
    "This swarm plot shows that many of the response times in the incongruent tests were longer than the response times in the congruent tests. We also see some outliers in the incongruent response times."
   ]
  },
  {
   "cell_type": "code",
   "execution_count": 69,
   "id": "148450af",
   "metadata": {},
   "outputs": [
    {
     "data": {
      "image/png": "[encoded data removed]",
      "text/plain": [
       "<Figure size 432x288 with 1 Axes>"
      ]
     },
     "metadata": {
      "needs_background": "light"
     },
     "output_type": "display_data"
    }
   ],
   "source": [
    "# Plot a histogram of congruent and incongruent data.\n",
    "\n",
    "# Plot the congruent data.\n",
    "plot.hist(stroop_data_df['Congruent'], color = 'green', alpha = 0.25)\n",
    "\n",
    "# Plot the incongruent data.\n",
    "plot.hist(stroop_data_df['Incongruent'], color = 'blue', alpha = 0.25)\n",
    "\n",
    "# Set the x and y axes labels.\n",
    "plot.xlabel('Response Time')\n",
    "plot.ylabel('People')\n",
    "\n",
    "# Display the histogram.\n",
    "plot.show()"
   ]
  },
  {
   "cell_type": "markdown",
   "id": "9bb76335",
   "metadata": {},
   "source": [
    "This histogram shows congruent data, incongruent data, and the mean response time to identify the color of a word.  Note there are two outliers in the 34/35 range on the histogram for the incongruent data.\n",
    "\n",
    "A kernel density estimation (KDE) is often used to simplify the visualizations we have seen in the swarm plot and histogram."
   ]
  },
  {
   "cell_type": "code",
   "execution_count": 70,
   "id": "996f004c",
   "metadata": {},
   "outputs": [
    {
     "data": {
      "image/png": "[encoded data removed]",
      "text/plain": [
       "<Figure size 360x360 with 1 Axes>"
      ]
     },
     "metadata": {
      "needs_background": "light"
     },
     "output_type": "display_data"
    }
   ],
   "source": [
    "# Kernel density estimation (KDE).\n",
    "kde = sb.displot(stroop_data,\n",
    "                 x = 'response_time',\n",
    "                 hue = 'condition_type',\n",
    "                 kind = 'kde',\n",
    "                 fill = True,\n",
    "                 legend = False,\n",
    "                 palette = 'Accent')\n",
    "\n",
    "# Set x and y axes labels.\n",
    "kde.set(xlabel = 'Response Time', ylabel = 'Density')\n",
    "\n",
    "# Show legend (the legend is created here, otherwise 'condition_type' is displayed as the legend and cannot be\n",
    "# altered to 'Condition', which would be the ideal option).\n",
    "plot.legend(labels=(['Incongruent', 'Congruent']))\n",
    "\n",
    "# Display KDE.\n",
    "plot.show()"
   ]
  },
  {
   "cell_type": "markdown",
   "id": "e627033f",
   "metadata": {},
   "source": [
    "It can be seen that the incongruent condition is shifted to the right.  This implies that the participant response times under the incongruent condition are slower than those under the congruent condition."
   ]
  },
  {
   "cell_type": "markdown",
   "id": "e4f57f49",
   "metadata": {},
   "source": [
    "### 5. Now, perform the statistical test and report your results. What is your confidence level and your critical statistic value? Do you reject the null hypothesis or fail to reject it? Come to a conclusion in terms of the experiment task. Did the results match up with your expectations?"
   ]
  },
  {
   "cell_type": "markdown",
   "id": "7c677535",
   "metadata": {},
   "source": [
    "The statistical test will be performed.  The confidence level is 99% - the null hypothesis is rejected if the p-value is less than 0.01."
   ]
  },
  {
   "cell_type": "code",
   "execution_count": 57,
   "id": "ac4e70d9",
   "metadata": {},
   "outputs": [
    {
     "name": "stdout",
     "output_type": "stream",
     "text": [
      "t-distribution:  -8.020706944109957\n",
      "p-value:  4.103000585711178e-08\n"
     ]
    }
   ],
   "source": [
    "# Perform a paired sample t-test.\n",
    "\n",
    "# Load the statistics library.\n",
    "from scipy import stats\n",
    "\n",
    "# Calculate the t-test values.\n",
    "t_value, p_value = stats.ttest_rel(stroop_data_df.Congruent, stroop_data_df.Incongruent)\n",
    "\n",
    "# Display the statistical values.\n",
    "print('t-distribution: ', t_value)\n",
    "print('p-value: ', p_value)"
   ]
  },
  {
   "cell_type": "markdown",
   "id": "ef663a1d",
   "metadata": {},
   "source": [
    "Note that our alternative hypothesis is one-tailed whereas we have returned a two-tailed p-value.  Dividing the p-value by two, before comparing it to our selected confidence interval is required:"
   ]
  },
  {
   "cell_type": "code",
   "execution_count": 71,
   "id": "0b24a031",
   "metadata": {},
   "outputs": [
    {
     "name": "stdout",
     "output_type": "stream",
     "text": [
      "Adjusted p-value:  2.051500292855589e-08\n"
     ]
    }
   ],
   "source": [
    "# Adjust the p-value.\n",
    "adjusted_p_value = p_value / 2\n",
    "\n",
    "# Display the adjusted p-value.\n",
    "print('Adjusted p-value: ', adjusted_p_value)"
   ]
  },
  {
   "cell_type": "markdown",
   "id": "b94f1ea1",
   "metadata": {},
   "source": [
    "Since the adjusted value is less than 0.01, the null hypothesis can be rejected and the alternative hypothesis can be accepted.\n",
    "\n",
    "The Stroop dataset showed that the participants could correctly identify the colored words faster when the colors matched the word (the congruent condition).  Statistical inference shows a 99% confidence that these results can be generailized to a larger population."
   ]
  },
  {
   "cell_type": "markdown",
   "id": "f8e2c634",
   "metadata": {},
   "source": [
    "### 6. Optional: What do you think is responsible for the effects observed? Can you think of an alternative or similar task that would result in a similar effect? Some research about the problem will be helpful for thinking about these two questions!"
   ]
  },
  {
   "cell_type": "markdown",
   "id": "f232cd23",
   "metadata": {},
   "source": [
    "The statistical analysis confirms the existence of a real effect, as opposed to random chance.  However, the test does not explain why this occurs.\n",
    "\n",
    "It would seem that the words are read before the color is identified by the participant.  When the color of the word and the meaning of the word do not match (e.g. the word RED is not displayed in red) some type of cognitive reconciliation occurs which causes a delay in the response time.\n",
    "\n",
    "The experiment could be modified to discover what happens if colored words are used in which the words are in a language the participant does not understand.  For example, the French word *rouge* appears in blue.\n",
    "\n",
    "Other options would be to randomize the letters of the words so they would be gibberish or show them upside-down."
   ]
  }
 ],
 "metadata": {
  "kernelspec": {
   "display_name": "Python [conda env:c749] *",
   "language": "python",
   "name": "conda-env-c749-py"
  },
  "language_info": {
   "codemirror_mode": {
    "name": "ipython",
    "version": 3
   },
   "file_extension": ".py",
   "mimetype": "text/x-python",
   "name": "python",
   "nbconvert_exporter": "python",
   "pygments_lexer": "ipython3",
   "version": "3.6.13"
  }
 },
 "nbformat": 4,
 "nbformat_minor": 5
}
